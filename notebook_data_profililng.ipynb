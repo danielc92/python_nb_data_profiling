{
 "cells": [
  {
   "cell_type": "markdown",
   "metadata": {},
   "source": [
    "# Data Profiling"
   ]
  },
  {
   "cell_type": "markdown",
   "metadata": {},
   "source": [
    "### Import modules"
   ]
  },
  {
   "cell_type": "code",
   "execution_count": 1,
   "metadata": {},
   "outputs": [],
   "source": [
    "import pandas\n",
    "import numpy\n",
    "import random\n",
    "import datetime"
   ]
  },
  {
   "cell_type": "markdown",
   "metadata": {},
   "source": [
    "### Import/Create Data"
   ]
  },
  {
   "cell_type": "code",
   "execution_count": 2,
   "metadata": {},
   "outputs": [],
   "source": [
    "data = pandas.DataFrame({\"colour\":[\"blue\",\"blue\",\"red\",\"orange\",\"red\",None,\"red\"],\n",
    "                        \"number\":[12,14,15,12,31,14, None],\n",
    "                        \"name\":[\"daniel\",\"chris\",\"gary\",\"jess\", \"robert\",\"jan\",\"harry\"]})"
   ]
  },
  {
   "cell_type": "code",
   "execution_count": 3,
   "metadata": {},
   "outputs": [
    {
     "data": {
      "text/html": [
       "<div>\n",
       "<style scoped>\n",
       "    .dataframe tbody tr th:only-of-type {\n",
       "        vertical-align: middle;\n",
       "    }\n",
       "\n",
       "    .dataframe tbody tr th {\n",
       "        vertical-align: top;\n",
       "    }\n",
       "\n",
       "    .dataframe thead th {\n",
       "        text-align: right;\n",
       "    }\n",
       "</style>\n",
       "<table border=\"1\" class=\"dataframe\">\n",
       "  <thead>\n",
       "    <tr style=\"text-align: right;\">\n",
       "      <th></th>\n",
       "      <th>colour</th>\n",
       "      <th>number</th>\n",
       "      <th>name</th>\n",
       "    </tr>\n",
       "  </thead>\n",
       "  <tbody>\n",
       "    <tr>\n",
       "      <th>0</th>\n",
       "      <td>blue</td>\n",
       "      <td>12.0</td>\n",
       "      <td>daniel</td>\n",
       "    </tr>\n",
       "    <tr>\n",
       "      <th>1</th>\n",
       "      <td>blue</td>\n",
       "      <td>14.0</td>\n",
       "      <td>chris</td>\n",
       "    </tr>\n",
       "    <tr>\n",
       "      <th>2</th>\n",
       "      <td>red</td>\n",
       "      <td>15.0</td>\n",
       "      <td>gary</td>\n",
       "    </tr>\n",
       "  </tbody>\n",
       "</table>\n",
       "</div>"
      ],
      "text/plain": [
       "  colour  number    name\n",
       "0   blue    12.0  daniel\n",
       "1   blue    14.0   chris\n",
       "2    red    15.0    gary"
      ]
     },
     "execution_count": 3,
     "metadata": {},
     "output_type": "execute_result"
    }
   ],
   "source": [
    "data.head(3)"
   ]
  },
  {
   "cell_type": "markdown",
   "metadata": {},
   "source": [
    "### Helper function to generate data"
   ]
  },
  {
   "cell_type": "code",
   "execution_count": 4,
   "metadata": {},
   "outputs": [],
   "source": [
    "def generate_dynamic_random_code(code_length):\n",
    "    \n",
    "    characters_string = \"abcdefghijklmnopqrstuvwxyz1234567890ABCDEFGHIJKLMNOPQRSTUVWXYZ\"\n",
    "    \n",
    "    listchar = list(characters_string)\n",
    "    \n",
    "    placeholder_string = \"-\" * code_length\n",
    "    \n",
    "    placeholders = list(placeholder_string)\n",
    "    \n",
    "    for index in range(len(placeholders)):\n",
    "    \n",
    "        random_index = random.randint(0,len(listchar) - 1)\n",
    "    \n",
    "        character = listchar[random_index]\n",
    "    \n",
    "        placeholders[index] = character\n",
    "    \n",
    "    code = \"\".join(placeholders)\n",
    "    \n",
    "    return code"
   ]
  },
  {
   "cell_type": "code",
   "execution_count": 5,
   "metadata": {},
   "outputs": [],
   "source": [
    "def generate_float_frame(row_count, column_count, assign_col_names = False):\n",
    "    \n",
    "    data = pandas.DataFrame(numpy.random.random((row_count, column_count)))\n",
    "    \n",
    "    if assign_col_names == True:\n",
    "        \n",
    "        columns = []\n",
    "        while len(columns) < column_count:\n",
    "            \n",
    "            columns.append(generate_dynamic_random_code(8))\n",
    "            \n",
    "        data.columns = columns\n",
    "    \n",
    "    return data"
   ]
  },
  {
   "cell_type": "markdown",
   "metadata": {},
   "source": [
    "## Data Preview"
   ]
  },
  {
   "cell_type": "markdown",
   "metadata": {},
   "source": [
    "### Get Statistical Summary"
   ]
  },
  {
   "cell_type": "code",
   "execution_count": 6,
   "metadata": {},
   "outputs": [],
   "source": [
    "describe = data.describe(include = \"all\")\n",
    "describe_transposed = describe.T\n",
    "describe_final = describe_transposed.reset_index()"
   ]
  },
  {
   "cell_type": "code",
   "execution_count": 7,
   "metadata": {},
   "outputs": [
    {
     "data": {
      "text/html": [
       "<div>\n",
       "<style scoped>\n",
       "    .dataframe tbody tr th:only-of-type {\n",
       "        vertical-align: middle;\n",
       "    }\n",
       "\n",
       "    .dataframe tbody tr th {\n",
       "        vertical-align: top;\n",
       "    }\n",
       "\n",
       "    .dataframe thead th {\n",
       "        text-align: right;\n",
       "    }\n",
       "</style>\n",
       "<table border=\"1\" class=\"dataframe\">\n",
       "  <thead>\n",
       "    <tr style=\"text-align: right;\">\n",
       "      <th></th>\n",
       "      <th>index</th>\n",
       "      <th>count</th>\n",
       "      <th>unique</th>\n",
       "      <th>top</th>\n",
       "      <th>freq</th>\n",
       "      <th>mean</th>\n",
       "      <th>std</th>\n",
       "      <th>min</th>\n",
       "      <th>25%</th>\n",
       "      <th>50%</th>\n",
       "      <th>75%</th>\n",
       "      <th>max</th>\n",
       "    </tr>\n",
       "  </thead>\n",
       "  <tbody>\n",
       "    <tr>\n",
       "      <th>0</th>\n",
       "      <td>colour</td>\n",
       "      <td>6</td>\n",
       "      <td>3</td>\n",
       "      <td>red</td>\n",
       "      <td>3</td>\n",
       "      <td>NaN</td>\n",
       "      <td>NaN</td>\n",
       "      <td>NaN</td>\n",
       "      <td>NaN</td>\n",
       "      <td>NaN</td>\n",
       "      <td>NaN</td>\n",
       "      <td>NaN</td>\n",
       "    </tr>\n",
       "    <tr>\n",
       "      <th>1</th>\n",
       "      <td>number</td>\n",
       "      <td>6</td>\n",
       "      <td>NaN</td>\n",
       "      <td>NaN</td>\n",
       "      <td>NaN</td>\n",
       "      <td>16.3333</td>\n",
       "      <td>7.28469</td>\n",
       "      <td>12</td>\n",
       "      <td>12.5</td>\n",
       "      <td>14</td>\n",
       "      <td>14.75</td>\n",
       "      <td>31</td>\n",
       "    </tr>\n",
       "    <tr>\n",
       "      <th>2</th>\n",
       "      <td>name</td>\n",
       "      <td>7</td>\n",
       "      <td>7</td>\n",
       "      <td>robert</td>\n",
       "      <td>1</td>\n",
       "      <td>NaN</td>\n",
       "      <td>NaN</td>\n",
       "      <td>NaN</td>\n",
       "      <td>NaN</td>\n",
       "      <td>NaN</td>\n",
       "      <td>NaN</td>\n",
       "      <td>NaN</td>\n",
       "    </tr>\n",
       "  </tbody>\n",
       "</table>\n",
       "</div>"
      ],
      "text/plain": [
       "    index count unique     top freq     mean      std  min   25%  50%    75%  \\\n",
       "0  colour     6      3     red    3      NaN      NaN  NaN   NaN  NaN    NaN   \n",
       "1  number     6    NaN     NaN  NaN  16.3333  7.28469   12  12.5   14  14.75   \n",
       "2    name     7      7  robert    1      NaN      NaN  NaN   NaN  NaN    NaN   \n",
       "\n",
       "   max  \n",
       "0  NaN  \n",
       "1   31  \n",
       "2  NaN  "
      ]
     },
     "execution_count": 7,
     "metadata": {},
     "output_type": "execute_result"
    }
   ],
   "source": [
    "describe_final"
   ]
  },
  {
   "cell_type": "markdown",
   "metadata": {},
   "source": [
    "### Get Data Types"
   ]
  },
  {
   "cell_type": "code",
   "execution_count": 8,
   "metadata": {},
   "outputs": [],
   "source": [
    "dtypes = data.dtypes"
   ]
  },
  {
   "cell_type": "code",
   "execution_count": 9,
   "metadata": {},
   "outputs": [],
   "source": [
    "dtypes_dataframe = pandas.DataFrame(dtypes, columns = [\"data_type\"])"
   ]
  },
  {
   "cell_type": "code",
   "execution_count": 10,
   "metadata": {},
   "outputs": [],
   "source": [
    "dtypes_final = dtypes_dataframe.reset_index()"
   ]
  },
  {
   "cell_type": "code",
   "execution_count": 11,
   "metadata": {},
   "outputs": [
    {
     "data": {
      "text/html": [
       "<div>\n",
       "<style scoped>\n",
       "    .dataframe tbody tr th:only-of-type {\n",
       "        vertical-align: middle;\n",
       "    }\n",
       "\n",
       "    .dataframe tbody tr th {\n",
       "        vertical-align: top;\n",
       "    }\n",
       "\n",
       "    .dataframe thead th {\n",
       "        text-align: right;\n",
       "    }\n",
       "</style>\n",
       "<table border=\"1\" class=\"dataframe\">\n",
       "  <thead>\n",
       "    <tr style=\"text-align: right;\">\n",
       "      <th></th>\n",
       "      <th>index</th>\n",
       "      <th>data_type</th>\n",
       "    </tr>\n",
       "  </thead>\n",
       "  <tbody>\n",
       "    <tr>\n",
       "      <th>0</th>\n",
       "      <td>colour</td>\n",
       "      <td>object</td>\n",
       "    </tr>\n",
       "    <tr>\n",
       "      <th>1</th>\n",
       "      <td>number</td>\n",
       "      <td>float64</td>\n",
       "    </tr>\n",
       "    <tr>\n",
       "      <th>2</th>\n",
       "      <td>name</td>\n",
       "      <td>object</td>\n",
       "    </tr>\n",
       "  </tbody>\n",
       "</table>\n",
       "</div>"
      ],
      "text/plain": [
       "    index data_type\n",
       "0  colour    object\n",
       "1  number   float64\n",
       "2    name    object"
      ]
     },
     "execution_count": 11,
     "metadata": {},
     "output_type": "execute_result"
    }
   ],
   "source": [
    "dtypes_final"
   ]
  },
  {
   "cell_type": "markdown",
   "metadata": {},
   "source": [
    "### Get Null composition"
   ]
  },
  {
   "cell_type": "code",
   "execution_count": 12,
   "metadata": {},
   "outputs": [],
   "source": [
    "filled_count_series = data.notnull().sum().astype(int)\n",
    "null_count_series = data.isnull().sum().astype(int)\n",
    "totalcount = data.shape[0]"
   ]
  },
  {
   "cell_type": "code",
   "execution_count": 13,
   "metadata": {},
   "outputs": [],
   "source": [
    "percent_null =  null_count_series / totalcount\n",
    "percent_filled = filled_count_series / totalcount"
   ]
  },
  {
   "cell_type": "code",
   "execution_count": 14,
   "metadata": {},
   "outputs": [],
   "source": [
    "percent_null = percent_null.apply('{0:.2%}'.format)\n",
    "percent_filled = percent_filled.apply('{0:.2%}'.format)"
   ]
  },
  {
   "cell_type": "code",
   "execution_count": 15,
   "metadata": {},
   "outputs": [],
   "source": [
    "percent_null = percent_null.reset_index().rename(columns = {0:\"null_percent\"})\n",
    "percent_filled = percent_filled.reset_index().rename(columns = {0:\"non_null_percent\"})\n",
    "filled_count_series = filled_count_series.reset_index().rename(columns = {0:\"non_null_counts\"})\n",
    "null_count_series = null_count_series.reset_index().rename(columns = {0:\"null_counts\"})"
   ]
  },
  {
   "cell_type": "code",
   "execution_count": 16,
   "metadata": {},
   "outputs": [],
   "source": [
    "from functools import reduce"
   ]
  },
  {
   "cell_type": "code",
   "execution_count": 17,
   "metadata": {},
   "outputs": [],
   "source": [
    "null_info_dataframe = reduce(lambda left,right: pandas.merge(left,right,on='index'), [percent_null,\n",
    "                                                                                 percent_filled,\n",
    "                                                                                 filled_count_series,\n",
    "                                                                                 null_count_series])"
   ]
  },
  {
   "cell_type": "code",
   "execution_count": 18,
   "metadata": {},
   "outputs": [
    {
     "data": {
      "text/html": [
       "<div>\n",
       "<style scoped>\n",
       "    .dataframe tbody tr th:only-of-type {\n",
       "        vertical-align: middle;\n",
       "    }\n",
       "\n",
       "    .dataframe tbody tr th {\n",
       "        vertical-align: top;\n",
       "    }\n",
       "\n",
       "    .dataframe thead th {\n",
       "        text-align: right;\n",
       "    }\n",
       "</style>\n",
       "<table border=\"1\" class=\"dataframe\">\n",
       "  <thead>\n",
       "    <tr style=\"text-align: right;\">\n",
       "      <th></th>\n",
       "      <th>index</th>\n",
       "      <th>null_percent</th>\n",
       "      <th>non_null_percent</th>\n",
       "      <th>non_null_counts</th>\n",
       "      <th>null_counts</th>\n",
       "    </tr>\n",
       "  </thead>\n",
       "  <tbody>\n",
       "    <tr>\n",
       "      <th>0</th>\n",
       "      <td>colour</td>\n",
       "      <td>14.29%</td>\n",
       "      <td>85.71%</td>\n",
       "      <td>6</td>\n",
       "      <td>1</td>\n",
       "    </tr>\n",
       "    <tr>\n",
       "      <th>1</th>\n",
       "      <td>number</td>\n",
       "      <td>14.29%</td>\n",
       "      <td>85.71%</td>\n",
       "      <td>6</td>\n",
       "      <td>1</td>\n",
       "    </tr>\n",
       "    <tr>\n",
       "      <th>2</th>\n",
       "      <td>name</td>\n",
       "      <td>0.00%</td>\n",
       "      <td>100.00%</td>\n",
       "      <td>7</td>\n",
       "      <td>0</td>\n",
       "    </tr>\n",
       "  </tbody>\n",
       "</table>\n",
       "</div>"
      ],
      "text/plain": [
       "    index null_percent non_null_percent  non_null_counts  null_counts\n",
       "0  colour       14.29%           85.71%                6            1\n",
       "1  number       14.29%           85.71%                6            1\n",
       "2    name        0.00%          100.00%                7            0"
      ]
     },
     "execution_count": 18,
     "metadata": {},
     "output_type": "execute_result"
    }
   ],
   "source": [
    "null_info_dataframe"
   ]
  },
  {
   "cell_type": "markdown",
   "metadata": {},
   "source": [
    "\n",
    "### Merge all"
   ]
  },
  {
   "cell_type": "code",
   "execution_count": 19,
   "metadata": {},
   "outputs": [],
   "source": [
    "merged = reduce(lambda left,right: pandas.merge(left,right,on='index', how = \"left\"), [null_info_dataframe,\n",
    "                                                                        dtypes_final,\n",
    "                                                                        describe_final])"
   ]
  },
  {
   "cell_type": "markdown",
   "metadata": {},
   "source": [
    "### Add row count"
   ]
  },
  {
   "cell_type": "code",
   "execution_count": 20,
   "metadata": {},
   "outputs": [],
   "source": [
    "merged[\"row_count\"] = merged[\"non_null_counts\"] + merged[\"null_counts\"]\n",
    "\n",
    "merged.drop([\"count\"], axis = 1, inplace = True)"
   ]
  },
  {
   "cell_type": "code",
   "execution_count": 68,
   "metadata": {},
   "outputs": [],
   "source": [
    "merged[\"data_type\"] = merged[\"data_type\"].astype(str)"
   ]
  },
  {
   "cell_type": "markdown",
   "metadata": {},
   "source": [
    "### Print"
   ]
  },
  {
   "cell_type": "code",
   "execution_count": 69,
   "metadata": {},
   "outputs": [],
   "source": [
    "profile_dict = {}"
   ]
  },
  {
   "cell_type": "code",
   "execution_count": 70,
   "metadata": {},
   "outputs": [
    {
     "name": "stdout",
     "output_type": "stream",
     "text": [
      "\n",
      "\n",
      "-----------------  colour  -----------------\n",
      "\n",
      "null_percent:                         14.29%\n",
      "<class 'str'>\n",
      "non_null_percent:                     85.71%\n",
      "<class 'str'>\n",
      "non_null_counts:                           6\n",
      "<class 'numpy.int64'>\n",
      "null_counts:                               1\n",
      "<class 'numpy.int64'>\n",
      "data_type:                            object\n",
      "<class 'str'>\n",
      "unique:                                    3\n",
      "<class 'int'>\n",
      "top:                                     red\n",
      "<class 'str'>\n",
      "freq:                                      3\n",
      "<class 'numpy.int64'>\n",
      "mean:                                    nan\n",
      "<class 'float'>\n",
      "std:                                     nan\n",
      "<class 'float'>\n",
      "min:                                     nan\n",
      "<class 'float'>\n",
      "25%:                                     nan\n",
      "<class 'float'>\n",
      "50%:                                     nan\n",
      "<class 'float'>\n",
      "75%:                                     nan\n",
      "<class 'float'>\n",
      "max:                                     nan\n",
      "<class 'float'>\n",
      "row_count:                                 7\n",
      "<class 'numpy.int64'>\n",
      "\n",
      "\n",
      "-----------------  number  -----------------\n",
      "\n",
      "null_percent:                         14.29%\n",
      "<class 'str'>\n",
      "non_null_percent:                     85.71%\n",
      "<class 'str'>\n",
      "non_null_counts:                           6\n",
      "<class 'numpy.int64'>\n",
      "null_counts:                               1\n",
      "<class 'numpy.int64'>\n",
      "data_type:                           float64\n",
      "<class 'str'>\n",
      "unique:                                  nan\n",
      "<class 'float'>\n",
      "top:                                     nan\n",
      "<class 'float'>\n",
      "freq:                                    nan\n",
      "<class 'float'>\n",
      "mean:                     16.333333333333332\n",
      "<class 'float'>\n",
      "std:                       7.284687135812126\n",
      "<class 'float'>\n",
      "min:                                    12.0\n",
      "<class 'float'>\n",
      "25%:                                    12.5\n",
      "<class 'float'>\n",
      "50%:                                    14.0\n",
      "<class 'float'>\n",
      "75%:                                   14.75\n",
      "<class 'float'>\n",
      "max:                                    31.0\n",
      "<class 'float'>\n",
      "row_count:                                 7\n",
      "<class 'numpy.int64'>\n",
      "\n",
      "\n",
      "------------------  name  ------------------\n",
      "\n",
      "null_percent:                          0.00%\n",
      "<class 'str'>\n",
      "non_null_percent:                    100.00%\n",
      "<class 'str'>\n",
      "non_null_counts:                           7\n",
      "<class 'numpy.int64'>\n",
      "null_counts:                               0\n",
      "<class 'numpy.int64'>\n",
      "data_type:                            object\n",
      "<class 'str'>\n",
      "unique:                                    7\n",
      "<class 'int'>\n",
      "top:                                  robert\n",
      "<class 'str'>\n",
      "freq:                                      1\n",
      "<class 'numpy.int64'>\n",
      "mean:                                    nan\n",
      "<class 'float'>\n",
      "std:                                     nan\n",
      "<class 'float'>\n",
      "min:                                     nan\n",
      "<class 'float'>\n",
      "25%:                                     nan\n",
      "<class 'float'>\n",
      "50%:                                     nan\n",
      "<class 'float'>\n",
      "75%:                                     nan\n",
      "<class 'float'>\n",
      "max:                                     nan\n",
      "<class 'float'>\n",
      "row_count:                                 7\n",
      "<class 'numpy.int64'>\n"
     ]
    }
   ],
   "source": [
    "merged_attributes = list(merged.columns)[1:]\n",
    "\n",
    "for index in range(merged.shape[0]):\n",
    "    \n",
    "    column = merged.loc[index, \"index\"]\n",
    "    column_padded = \"  \" + column + \"  \"\n",
    "    print(\"\\n\\n\", column_padded.center(44, \"-\"),\"\\n\",sep = \"\")    \n",
    "    profile_dict[column] = []    \n",
    "    for attr in merged_attributes:\n",
    "        attr_ = attr + \":\"\n",
    "        value = merged.loc[index, attr]\n",
    "        value_string = str(value)\n",
    "        \n",
    "        print(attr_.ljust(22, \" \"), value_string.rjust(22, \" \"), sep = \"\")    \n",
    "        \n",
    "        print(type(value))\n",
    "        if type(value) == numpy.int64:\n",
    "            profile_dict[column].append({attr:int(value)})\n",
    "        else:\n",
    "            profile_dict[column].append({attr:value})"
   ]
  },
  {
   "cell_type": "code",
   "execution_count": 79,
   "metadata": {},
   "outputs": [
    {
     "data": {
      "text/plain": [
       "{'colour': [{'null_percent': '14.29%'},\n",
       "  {'non_null_percent': '85.71%'},\n",
       "  {'non_null_counts': 6},\n",
       "  {'null_counts': 1},\n",
       "  {'data_type': 'object'},\n",
       "  {'unique': 3},\n",
       "  {'top': 'red'},\n",
       "  {'freq': 3},\n",
       "  {'mean': nan},\n",
       "  {'std': nan},\n",
       "  {'min': nan},\n",
       "  {'25%': nan},\n",
       "  {'50%': nan},\n",
       "  {'75%': nan},\n",
       "  {'max': nan},\n",
       "  {'row_count': 7}],\n",
       " 'number': [{'null_percent': '14.29%'},\n",
       "  {'non_null_percent': '85.71%'},\n",
       "  {'non_null_counts': 6},\n",
       "  {'null_counts': 1},\n",
       "  {'data_type': 'float64'},\n",
       "  {'unique': nan},\n",
       "  {'top': nan},\n",
       "  {'freq': nan},\n",
       "  {'mean': 16.333333333333332},\n",
       "  {'std': 7.284687135812126},\n",
       "  {'min': 12.0},\n",
       "  {'25%': 12.5},\n",
       "  {'50%': 14.0},\n",
       "  {'75%': 14.75},\n",
       "  {'max': 31.0},\n",
       "  {'row_count': 7}],\n",
       " 'name': [{'null_percent': '0.00%'},\n",
       "  {'non_null_percent': '100.00%'},\n",
       "  {'non_null_counts': 7},\n",
       "  {'null_counts': 0},\n",
       "  {'data_type': 'object'},\n",
       "  {'unique': 7},\n",
       "  {'top': 'robert'},\n",
       "  {'freq': 1},\n",
       "  {'mean': nan},\n",
       "  {'std': nan},\n",
       "  {'min': nan},\n",
       "  {'25%': nan},\n",
       "  {'50%': nan},\n",
       "  {'75%': nan},\n",
       "  {'max': nan},\n",
       "  {'row_count': 7}]}"
      ]
     },
     "execution_count": 79,
     "metadata": {},
     "output_type": "execute_result"
    }
   ],
   "source": [
    "profile_dict"
   ]
  },
  {
   "cell_type": "code",
   "execution_count": 77,
   "metadata": {},
   "outputs": [],
   "source": [
    "exportpath = \"/users/danielcorcoran/desktop/github_repos/python_nb_data/\""
   ]
  },
  {
   "cell_type": "code",
   "execution_count": 80,
   "metadata": {},
   "outputs": [],
   "source": [
    "with open(exportpath + \"profile.json\", \"w\") as fileobj:\n",
    "    json.dump(profile_dict, fileobj)\n",
    "    \n",
    "fileobj.close()"
   ]
  },
  {
   "cell_type": "code",
   "execution_count": 67,
   "metadata": {},
   "outputs": [],
   "source": [
    "merged.to_csv(exportpath + \"profile.csv\", index = False)"
   ]
  }
 ],
 "metadata": {
  "kernelspec": {
   "display_name": "Python 3",
   "language": "python",
   "name": "python3"
  },
  "language_info": {
   "codemirror_mode": {
    "name": "ipython",
    "version": 3
   },
   "file_extension": ".py",
   "mimetype": "text/x-python",
   "name": "python",
   "nbconvert_exporter": "python",
   "pygments_lexer": "ipython3",
   "version": "3.6.5"
  },
  "toc": {
   "base_numbering": 1,
   "nav_menu": {},
   "number_sections": true,
   "sideBar": true,
   "skip_h1_title": false,
   "title_cell": "Table of Contents",
   "title_sidebar": "Contents",
   "toc_cell": false,
   "toc_position": {},
   "toc_section_display": true,
   "toc_window_display": true
  },
  "varInspector": {
   "cols": {
    "lenName": 16,
    "lenType": 16,
    "lenVar": 40
   },
   "kernels_config": {
    "python": {
     "delete_cmd_postfix": "",
     "delete_cmd_prefix": "del ",
     "library": "var_list.py",
     "varRefreshCmd": "print(var_dic_list())"
    },
    "r": {
     "delete_cmd_postfix": ") ",
     "delete_cmd_prefix": "rm(",
     "library": "var_list.r",
     "varRefreshCmd": "cat(var_dic_list()) "
    }
   },
   "types_to_exclude": [
    "module",
    "function",
    "builtin_function_or_method",
    "instance",
    "_Feature"
   ],
   "window_display": false
  }
 },
 "nbformat": 4,
 "nbformat_minor": 2
}
